{
 "cells": [
  {
   "cell_type": "code",
   "execution_count": 1,
   "metadata": {},
   "outputs": [
    {
     "data": {
      "text/html": [
       "<div>\n",
       "<style scoped>\n",
       "    .dataframe tbody tr th:only-of-type {\n",
       "        vertical-align: middle;\n",
       "    }\n",
       "\n",
       "    .dataframe tbody tr th {\n",
       "        vertical-align: top;\n",
       "    }\n",
       "\n",
       "    .dataframe thead th {\n",
       "        text-align: right;\n",
       "    }\n",
       "</style>\n",
       "<table border=\"1\" class=\"dataframe\">\n",
       "  <thead>\n",
       "    <tr style=\"text-align: right;\">\n",
       "      <th></th>\n",
       "      <th>X</th>\n",
       "      <th>Y</th>\n",
       "      <th>Z</th>\n",
       "    </tr>\n",
       "  </thead>\n",
       "  <tbody>\n",
       "    <tr>\n",
       "      <th>0</th>\n",
       "      <td>0</td>\n",
       "      <td>0</td>\n",
       "      <td>0</td>\n",
       "    </tr>\n",
       "    <tr>\n",
       "      <th>1</th>\n",
       "      <td>0</td>\n",
       "      <td>1</td>\n",
       "      <td>1</td>\n",
       "    </tr>\n",
       "    <tr>\n",
       "      <th>2</th>\n",
       "      <td>1</td>\n",
       "      <td>1</td>\n",
       "      <td>0</td>\n",
       "    </tr>\n",
       "    <tr>\n",
       "      <th>3</th>\n",
       "      <td>1</td>\n",
       "      <td>1</td>\n",
       "      <td>0</td>\n",
       "    </tr>\n",
       "    <tr>\n",
       "      <th>4</th>\n",
       "      <td>0</td>\n",
       "      <td>0</td>\n",
       "      <td>0</td>\n",
       "    </tr>\n",
       "  </tbody>\n",
       "</table>\n",
       "</div>"
      ],
      "text/plain": [
       "   X  Y  Z\n",
       "0  0  0  0\n",
       "1  0  1  1\n",
       "2  1  1  0\n",
       "3  1  1  0\n",
       "4  0  0  0"
      ]
     },
     "execution_count": 1,
     "metadata": {},
     "output_type": "execute_result"
    }
   ],
   "source": [
    "import pandas as pd\n",
    "\n",
    "# Load the XOR dataset from the uploaded file\n",
    "file_path = './Xor_Dataset.csv'\n",
    "xor_data = pd.read_csv(file_path)\n",
    "\n",
    "# Display the first few rows to understand the dataset structure\n",
    "xor_data.head()"
   ]
  },
  {
   "cell_type": "code",
   "execution_count": 2,
   "metadata": {},
   "outputs": [
    {
     "data": {
      "image/png": "[encoded data removed]",
      "text/plain": [
       "<Figure size 600x600 with 1 Axes>"
      ]
     },
     "metadata": {},
     "output_type": "display_data"
    }
   ],
   "source": [
    "import matplotlib.pyplot as plt\n",
    "\n",
    "\n",
    "# Visualize the XOR dataset\n",
    "plt.figure(figsize=(6, 6))\n",
    "colors = ['red' if z == 1 else 'blue' for z in xor_data['Z']]\n",
    "plt.scatter(xor_data['X'], xor_data['Y'], c=colors, edgecolor='k', s=100)\n",
    "plt.title('XOR Dataset Visualization')\n",
    "plt.xlabel('X')\n",
    "plt.ylabel('Y')\n",
    "plt.grid(True)\n",
    "plt.show()"
   ]
  },
  {
   "cell_type": "code",
   "execution_count": 3,
   "metadata": {},
   "outputs": [
    {
     "data": {
      "text/plain": [
       "(0.5145,\n",
       " [array([[-0.00257431,  0.93248832],\n",
       "         [ 0.05914736,  0.04023378]]),\n",
       "  array([[-0.52196784],\n",
       "         [ 0.9020346 ]])],\n",
       " [array([-0.84257881, -1.01416022]), array([0.01312898])])"
      ]
     },
     "execution_count": 3,
     "metadata": {},
     "output_type": "execute_result"
    }
   ],
   "source": [
    "from sklearn.model_selection import train_test_split\n",
    "from sklearn.neural_network import MLPClassifier\n",
    "from sklearn.metrics import accuracy_score\n",
    "\n",
    "# Prepare the data for training and testing\n",
    "X = xor_data[['X', 'Y']]\n",
    "y = xor_data['Z']\n",
    "X_train, X_test, y_train, y_test = train_test_split(X, y, test_size=0.2, random_state=42)\n",
    "\n",
    "# Define a minimal neural network\n",
    "# One hidden layer with 2 neurons (smallest sufficient network for XOR)\n",
    "model = MLPClassifier(hidden_layer_sizes=(2,), activation='relu', max_iter=1000, random_state=42)\n",
    "\n",
    "# Train the model\n",
    "model.fit(X_train, y_train)\n",
    "\n",
    "# Test the model\n",
    "y_pred = model.predict(X_test)\n",
    "accuracy = accuracy_score(y_test, y_pred)\n",
    "\n",
    "# Display the results\n",
    "accuracy, model.coefs_, model.intercepts_"
   ]
  },
  {
   "cell_type": "code",
   "execution_count": 5,
   "metadata": {},
   "outputs": [
    {
     "data": {
      "text/plain": [
       "(0.497,\n",
       " [array([[-3.70265416e-08,  4.82371946e-01,  2.98206501e-04,\n",
       "          -2.52078046e-01],\n",
       "         [-9.18380911e-03, -1.22876173e-01, -4.16954474e-02,\n",
       "           2.93693607e-01]]),\n",
       "  array([[ 0.58519405],\n",
       "         [-0.15152189],\n",
       "         [-0.01005644],\n",
       "         [-0.2486494 ]])],\n",
       " [array([-0.01000432,  0.12598318, -0.95883101,  0.48912027]),\n",
       "  array([0.17368075])])"
      ]
     },
     "execution_count": 5,
     "metadata": {},
     "output_type": "execute_result"
    }
   ],
   "source": [
    "# Increase the number of neurons to 4 in the hidden layer\n",
    "model = MLPClassifier(hidden_layer_sizes=(4,), activation='relu', max_iter=1000, random_state=42)\n",
    "\n",
    "# Train the updated model\n",
    "model.fit(X_train, y_train)\n",
    "\n",
    "# Test the updated model\n",
    "y_pred = model.predict(X_test)\n",
    "accuracy = accuracy_score(y_test, y_pred)\n",
    "\n",
    "# Display the updated results\n",
    "accuracy, model.coefs_, model.intercepts_"
   ]
  },
  {
   "cell_type": "code",
   "execution_count": 6,
   "metadata": {},
   "outputs": [
    {
     "data": {
      "text/plain": [
       "(0.764,\n",
       " [array([[-1.68223048e-30,  1.51215205e+00],\n",
       "         [ 4.78762520e-14,  1.51084932e+00]]),\n",
       "  array([[-9.14922503e-06,  1.51871989e-07],\n",
       "         [-5.42725777e-41,  3.12752617e+00]]),\n",
       "  array([[ 4.67133837e-07],\n",
       "         [-1.31825371e+00]])],\n",
       " [array([-0.84257881, -1.49698914]),\n",
       "  array([-1.17432336, -0.05872602]),\n",
       "  array([0.70200636])])"
      ]
     },
     "execution_count": 6,
     "metadata": {},
     "output_type": "execute_result"
    }
   ],
   "source": [
    "# Try a network with 2 hidden layers, each with 2 neurons\n",
    "model = MLPClassifier(hidden_layer_sizes=(2, 2), activation='relu', max_iter=1000, random_state=42)\n",
    "\n",
    "# Train the model\n",
    "model.fit(X_train, y_train)\n",
    "\n",
    "# Test the model\n",
    "y_pred = model.predict(X_test)\n",
    "accuracy = accuracy_score(y_test, y_pred)\n",
    "\n",
    "# Display the updated results\n",
    "accuracy, model.coefs_, model.intercepts_"
   ]
  },
  {
   "cell_type": "code",
   "execution_count": 8,
   "metadata": {},
   "outputs": [
    {
     "name": "stderr",
     "output_type": "stream",
     "text": [
      "c:\\Users\\jk121\\.conda\\envs\\DL-113\\lib\\site-packages\\sklearn\\base.py:493: UserWarning: X does not have valid feature names, but MLPClassifier was fitted with feature names\n",
      "  warnings.warn(\n"
     ]
    },
    {
     "data": {
      "image/png": "[encoded data removed]",
      "text/plain": [
       "<Figure size 800x800 with 1 Axes>"
      ]
     },
     "metadata": {},
     "output_type": "display_data"
    }
   ],
   "source": [
    "import numpy as np\n",
    "\n",
    "# Generate a grid of points for visualization\n",
    "xx, yy = np.meshgrid(np.linspace(0, 1, 100), np.linspace(0, 1, 100))\n",
    "grid = np.c_[xx.ravel(), yy.ravel()]\n",
    "grid_pred = model.predict(grid).reshape(xx.shape)\n",
    "\n",
    "# Visualize the decision boundary and data points\n",
    "plt.figure(figsize=(8, 8))\n",
    "plt.contourf(xx, yy, grid_pred, alpha=0.6, cmap='coolwarm')\n",
    "plt.scatter(X['X'], X['Y'], c=y, edgecolor='k', s=100, cmap='coolwarm')\n",
    "plt.title('XOR Classification with Minimal Neural Network')\n",
    "plt.xlabel('X')\n",
    "plt.ylabel('Y')\n",
    "plt.grid(True)\n",
    "plt.show()"
   ]
  }
 ],
 "metadata": {
  "kernelspec": {
   "display_name": "113-DL",
   "language": "python",
   "name": "python3"
  },
  "language_info": {
   "codemirror_mode": {
    "name": "ipython",
    "version": 3
   },
   "file_extension": ".py",
   "mimetype": "text/x-python",
   "name": "python",
   "nbconvert_exporter": "python",
   "pygments_lexer": "ipython3",
   "version": "3.10.13"
  }
 },
 "nbformat": 4,
 "nbformat_minor": 2
}
