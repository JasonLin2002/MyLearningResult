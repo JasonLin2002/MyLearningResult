{
 "cells": [
  {
   "cell_type": "code",
   "execution_count": 4,
   "metadata": {},
   "outputs": [],
   "source": [
    "import pandas as pd\n",
    "\n",
    "# 載入數據\n",
    "data = pd.read_csv('./data/Xor_Dataset.csv')\n",
    "X = data[['X', 'Y']].values  # 取出 x1 和 x2 作為輸入特徵\n",
    "y = data[['Z']].values         # 取出 y 作為輸出標籤"
   ]
  },
  {
   "cell_type": "code",
   "execution_count": 5,
   "metadata": {},
   "outputs": [
    {
     "data": {
      "text/plain": [
       "<keras.callbacks.History at 0x140e8947400>"
      ]
     },
     "execution_count": 5,
     "metadata": {},
     "output_type": "execute_result"
    }
   ],
   "source": [
    "import tensorflow as tf\n",
    "from tensorflow.keras.models import Sequential\n",
    "from tensorflow.keras.layers import Dense\n",
    "\n",
    "# 建立模型\n",
    "model = Sequential([\n",
    "    Dense(4, input_dim=2, activation='relu'),  # 第一層隱藏層\n",
    "    Dense(4, activation='relu'),               # 第二層隱藏層\n",
    "    Dense(1, activation='sigmoid')             # 輸出層\n",
    "])\n",
    "\n",
    "# 編譯模型\n",
    "model.compile(optimizer='adam', loss='binary_crossentropy', metrics=['accuracy'])\n",
    "\n",
    "# 訓練模型\n",
    "model.fit(X, y, epochs=500, verbose=0)"
   ]
  },
  {
   "cell_type": "code",
   "execution_count": 6,
   "metadata": {},
   "outputs": [
    {
     "name": "stdout",
     "output_type": "stream",
     "text": [
      "313/313 [==============================] - 0s 752us/step\n",
      "Predicted Output:\n",
      " [[1.]\n",
      " [1.]\n",
      " [0.]\n",
      " ...\n",
      " [0.]\n",
      " [0.]\n",
      " [0.]]\n"
     ]
    }
   ],
   "source": [
    "# 預測\n",
    "predictions = model.predict(X)\n",
    "print(\"Predicted Output:\\n\", predictions.round())"
   ]
  },
  {
   "cell_type": "code",
   "execution_count": 13,
   "metadata": {},
   "outputs": [
    {
     "name": "stdout",
     "output_type": "stream",
     "text": [
      "Predictions saved to xor_predictions.csv\n"
     ]
    }
   ],
   "source": [
    "# 將預測結果四捨五入並轉換成整數格式\n",
    "predicted_labels = predictions.round().astype(int)\n",
    "\n",
    "# 將輸入特徵和預測結果合併到新的 DataFrame\n",
    "output = pd.DataFrame(X, columns=['X', 'Y'])\n",
    "output['Z'] = predicted_labels\n",
    "\n",
    "# 儲存為新的 CSV 檔案\n",
    "output.to_csv('./data/Xor_Predictions.csv', index=False)\n",
    "print(\"Predictions saved to xor_predictions.csv\")"
   ]
  }
 ],
 "metadata": {
  "kernelspec": {
   "display_name": "113-DL",
   "language": "python",
   "name": "python3"
  },
  "language_info": {
   "codemirror_mode": {
    "name": "ipython",
    "version": 3
   },
   "file_extension": ".py",
   "mimetype": "text/x-python",
   "name": "python",
   "nbconvert_exporter": "python",
   "pygments_lexer": "ipython3",
   "version": "3.10.13"
  }
 },
 "nbformat": 4,
 "nbformat_minor": 2
}
