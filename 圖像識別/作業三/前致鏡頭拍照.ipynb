{
 "cells": [
  {
   "cell_type": "code",
   "execution_count": 4,
   "metadata": {},
   "outputs": [],
   "source": [
    "import cv2\n",
    "\n",
    "# 啟動筆電前置鏡頭\n",
    "cap = cv2.VideoCapture(0)\n",
    "\n",
    "# 讀取攝像頭的單幀影像\n",
    "ret, frame = cap.read()\n",
    "\n",
    "# 檢查是否成功讀取影像\n",
    "if ret:\n",
    "    # 顯示攝像頭畫面\n",
    "    cv2.imshow(\"Captured Image\", frame)\n",
    "    \n",
    "    # 儲存影像到檔案\n",
    "    cv2.imwrite(\"captured_image.jpg\", frame)\n",
    "else:\n",
    "    print(\"無法讀取影像\")\n",
    "\n",
    "# 釋放攝像頭並關閉視窗\n",
    "cap.release()\n",
    "cv2.destroyAllWindows()"
   ]
  }
 ],
 "metadata": {
  "kernelspec": {
   "display_name": "DL-113",
   "language": "python",
   "name": "python3"
  },
  "language_info": {
   "codemirror_mode": {
    "name": "ipython",
    "version": 3
   },
   "file_extension": ".py",
   "mimetype": "text/x-python",
   "name": "python",
   "nbconvert_exporter": "python",
   "pygments_lexer": "ipython3",
   "version": "3.10.13"
  }
 },
 "nbformat": 4,
 "nbformat_minor": 2
}
